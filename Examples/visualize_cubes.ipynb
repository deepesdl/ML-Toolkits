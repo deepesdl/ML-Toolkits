{
 "cells": [
  {
   "cell_type": "markdown",
   "id": "bcdc0bb5518a402e",
   "metadata": {},
   "source": [
    "# 3D Visualization of Earth System Data Cubes using xcube Viewer\n",
    "\n",
    "## Introduction\n",
    "\n",
    "This notebook demonstrates how to visualize Earth System Data Cubes (ESDC) using the [xcube Viewer](https://xcube-dev.github.io/xcube-viewer/). The focus is on providing an enhanced visual representation of the data used in three different machine learning notebooks that utilize PyTorch, TensorFlow, and Scikit-learn for predicting missing land surface temperature values from air temperature values. The datacubes involved in these analyses are:\n",
    "\n",
    " - land_surface_temperature\n",
    " - air_temperature_2m\n",
    "\n",
    "## Purpose\n",
    "\n",
    "The primary goal of this notebook is to offer a comprehensive and interactive visualization of the datacubes, facilitating a better understanding of the spatial and temporal relationships within the data. This notebook complements the following machine learning examples:\n",
    "\n",
    " - ML on ESDC using PyTorch: Demonstrates linear regression for predicting missing land surface temperature values from air temperature values using PyTorch.\n",
    " - ML on ESDC using TensorFlow: Showcases a similar predictive model implemented in TensorFlow.\n",
    " - ML on ESDC using Scikit-learn: Uses Scikit-learn to achieve the same predictive goal."
   ]
  },
  {
   "cell_type": "code",
   "execution_count": 1,
   "id": "initial_id",
   "metadata": {
    "tags": []
   },
   "outputs": [],
   "source": [
    "from xcube.core.store import new_data_store\n",
    "from xcube.webapi.viewer import Viewer"
   ]
  },
  {
   "cell_type": "code",
   "execution_count": 2,
   "id": "e968359d-db06-4700-8223-d1b256d1727f",
   "metadata": {
    "tags": []
   },
   "outputs": [],
   "source": [
    "data_store = new_data_store(\"s3\", root=\"esdl-esdc-v2.1.1\", storage_options=dict(anon=True))\n",
    "dataset    = data_store.open_data('esdc-8d-0.083deg-184x270x270-2.1.1.zarr')\n",
    "\n",
    "# Smaller cube for demo case\n",
    "start_time = \"2002-05-21\"\n",
    "end_time   = \"2002-05-29\"\n",
    "\n",
    "dataset    = dataset[[\"land_surface_temperature\", \"air_temperature_2m\"]].sel(\n",
    "    time=slice(start_time, end_time),\n",
    "    lon=slice(-45, 35),                  \n",
    "    lat=slice(60, 10) \n",
    ")"
   ]
  },
  {
   "cell_type": "markdown",
   "id": "2620846ab4ac4610",
   "metadata": {},
   "source": [
    "The following visualization refers to the air temperature data cube based on which the missing land surface temperature values are predicted."
   ]
  },
  {
   "cell_type": "code",
   "execution_count": null,
   "id": "0f20112d-8435-45ad-bcb6-9a255f20079d",
   "metadata": {
    "tags": []
   },
   "outputs": [
    {
     "name": "stderr",
     "output_type": "stream",
     "text": [
      "404 GET /viewer/config/config.json (127.0.0.1): xcube viewer has not been been configured\n",
      "404 GET /viewer/config/config.json (127.0.0.1) 4.94ms\n",
      "Uncaught exception GET /tiles/d28d3067-53ae-49a1-8db7-2a031b7b188a/land_surface_temperature/4/6/7?crs=EPSG%3A3857&vmin=230&vmax=340&cmap=thermal&time=2002-05-29T00%3A00%3A00Z (127.0.0.1)\n",
      "HTTPServerRequest(protocol='http', host='localhost:8000', method='GET', uri='/tiles/d28d3067-53ae-49a1-8db7-2a031b7b188a/land_surface_temperature/4/6/7?crs=EPSG%3A3857&vmin=230&vmax=340&cmap=thermal&time=2002-05-29T00%3A00%3A00Z', version='HTTP/1.1', remote_ip='127.0.0.1')\n",
      "Traceback (most recent call last):\n",
      "  File \"c:\\Users\\Clara\\miniconda3\\envs\\xcube-mltoolkit\\Lib\\site-packages\\tornado\\web.py\", line 1790, in _execute\n",
      "    result = await result\n",
      "             ^^^^^^^^^^^^\n",
      "  File \"C:\\Users\\Clara\\Desktop\\c\\xcube\\xcube\\server\\webservers\\tornado.py\", line 335, in get\n",
      "    await self._call_method(\"get\", *args, **kwargs)\n",
      "  File \"C:\\Users\\Clara\\Desktop\\c\\xcube\\xcube\\server\\webservers\\tornado.py\", line 353, in _call_method\n",
      "    await method(*args, **kwargs)\n",
      "  File \"C:\\Users\\Clara\\Desktop\\c\\xcube\\xcube\\webapi\\tiles\\routes.py\", line 104, in get\n",
      "    await self.response.finish(tile)\n",
      "tornado.iostream.StreamClosedError: Stream is closed\n",
      "Uncaught exception GET /tiles/d28d3067-53ae-49a1-8db7-2a031b7b188a/land_surface_temperature/4/5/8?crs=EPSG%3A3857&vmin=230&vmax=340&cmap=thermal&time=2002-05-29T00%3A00%3A00Z (127.0.0.1)\n",
      "HTTPServerRequest(protocol='http', host='localhost:8000', method='GET', uri='/tiles/d28d3067-53ae-49a1-8db7-2a031b7b188a/land_surface_temperature/4/5/8?crs=EPSG%3A3857&vmin=230&vmax=340&cmap=thermal&time=2002-05-29T00%3A00%3A00Z', version='HTTP/1.1', remote_ip='127.0.0.1')\n",
      "Traceback (most recent call last):\n",
      "  File \"c:\\Users\\Clara\\miniconda3\\envs\\xcube-mltoolkit\\Lib\\site-packages\\tornado\\web.py\", line 1790, in _execute\n",
      "    result = await result\n",
      "             ^^^^^^^^^^^^\n",
      "  File \"C:\\Users\\Clara\\Desktop\\c\\xcube\\xcube\\server\\webservers\\tornado.py\", line 335, in get\n",
      "    await self._call_method(\"get\", *args, **kwargs)\n",
      "  File \"C:\\Users\\Clara\\Desktop\\c\\xcube\\xcube\\server\\webservers\\tornado.py\", line 353, in _call_method\n",
      "    await method(*args, **kwargs)\n",
      "  File \"C:\\Users\\Clara\\Desktop\\c\\xcube\\xcube\\webapi\\tiles\\routes.py\", line 104, in get\n",
      "    await self.response.finish(tile)\n",
      "tornado.iostream.StreamClosedError: Stream is closed\n",
      "Uncaught exception GET /tiles/d28d3067-53ae-49a1-8db7-2a031b7b188a/land_surface_temperature/4/6/6?crs=EPSG%3A3857&vmin=230&vmax=340&cmap=thermal&time=2002-05-29T00%3A00%3A00Z (127.0.0.1)\n",
      "HTTPServerRequest(protocol='http', host='localhost:8000', method='GET', uri='/tiles/d28d3067-53ae-49a1-8db7-2a031b7b188a/land_surface_temperature/4/6/6?crs=EPSG%3A3857&vmin=230&vmax=340&cmap=thermal&time=2002-05-29T00%3A00%3A00Z', version='HTTP/1.1', remote_ip='127.0.0.1')\n",
      "Traceback (most recent call last):\n",
      "  File \"c:\\Users\\Clara\\miniconda3\\envs\\xcube-mltoolkit\\Lib\\site-packages\\tornado\\web.py\", line 1790, in _execute\n",
      "    result = await result\n",
      "             ^^^^^^^^^^^^\n",
      "  File \"C:\\Users\\Clara\\Desktop\\c\\xcube\\xcube\\server\\webservers\\tornado.py\", line 335, in get\n",
      "    await self._call_method(\"get\", *args, **kwargs)\n",
      "  File \"C:\\Users\\Clara\\Desktop\\c\\xcube\\xcube\\server\\webservers\\tornado.py\", line 353, in _call_method\n",
      "    await method(*args, **kwargs)\n",
      "  File \"C:\\Users\\Clara\\Desktop\\c\\xcube\\xcube\\webapi\\tiles\\routes.py\", line 104, in get\n",
      "    await self.response.finish(tile)\n",
      "tornado.iostream.StreamClosedError: Stream is closed\n",
      "Uncaught exception GET /tiles/d28d3067-53ae-49a1-8db7-2a031b7b188a/land_surface_temperature/4/5/6?crs=EPSG%3A3857&vmin=230&vmax=340&cmap=thermal&time=2002-05-29T00%3A00%3A00Z (127.0.0.1)\n",
      "HTTPServerRequest(protocol='http', host='localhost:8000', method='GET', uri='/tiles/d28d3067-53ae-49a1-8db7-2a031b7b188a/land_surface_temperature/4/5/6?crs=EPSG%3A3857&vmin=230&vmax=340&cmap=thermal&time=2002-05-29T00%3A00%3A00Z', version='HTTP/1.1', remote_ip='127.0.0.1')\n",
      "Traceback (most recent call last):\n",
      "  File \"c:\\Users\\Clara\\miniconda3\\envs\\xcube-mltoolkit\\Lib\\site-packages\\tornado\\web.py\", line 1790, in _execute\n",
      "    result = await result\n",
      "             ^^^^^^^^^^^^\n",
      "  File \"C:\\Users\\Clara\\Desktop\\c\\xcube\\xcube\\server\\webservers\\tornado.py\", line 335, in get\n",
      "    await self._call_method(\"get\", *args, **kwargs)\n",
      "  File \"C:\\Users\\Clara\\Desktop\\c\\xcube\\xcube\\server\\webservers\\tornado.py\", line 353, in _call_method\n",
      "    await method(*args, **kwargs)\n",
      "  File \"C:\\Users\\Clara\\Desktop\\c\\xcube\\xcube\\webapi\\tiles\\routes.py\", line 104, in get\n",
      "    await self.response.finish(tile)\n",
      "tornado.iostream.StreamClosedError: Stream is closed\n"
     ]
    }
   ],
   "source": [
    "viewer= Viewer(\n",
    "    server_config={\n",
    "        \"Styles\": [\n",
    "            {\n",
    "                \"Identifier\": \"default\",\n",
    "                \"ColorMappings\": {\n",
    "                    \"land_surface_temperature\": {\"ValueRange\": [230, 340], \"ColorBar\": \"thermal\"},\n",
    "                    \"air_temperature_2m\": {\"ValueRange\": [210, 315], \"ColorBar\": \"thermal\"}\n",
    "                },\n",
    "            }\n",
    "        ]\n",
    "    }\n",
    ")"
   ]
  },
  {
   "cell_type": "code",
   "execution_count": 4,
   "id": "86da8e34-4729-4853-bcf2-9eb0b2683438",
   "metadata": {
    "tags": []
   },
   "outputs": [
    {
     "data": {
      "text/plain": [
       "'d28d3067-53ae-49a1-8db7-2a031b7b188a'"
      ]
     },
     "execution_count": 4,
     "metadata": {},
     "output_type": "execute_result"
    }
   ],
   "source": [
    "viewer.add_dataset(dataset)"
   ]
  },
  {
   "cell_type": "markdown",
   "id": "15542239-252d-4b65-8d49-639a1ade6cee",
   "metadata": {},
   "source": [
    "Open xcube Viewer in a new browser tab:"
   ]
  },
  {
   "cell_type": "code",
   "execution_count": 5,
   "id": "6ad2fedd-2641-4a85-baaa-20c2064573c7",
   "metadata": {
    "tags": []
   },
   "outputs": [
    {
     "name": "stdout",
     "output_type": "stream",
     "text": [
      "Server: http://localhost:8000\n",
      "Viewer: http://localhost:8000/viewer/?serverUrl=http://localhost:8000\n"
     ]
    }
   ],
   "source": [
    "viewer.info()"
   ]
  },
  {
   "cell_type": "markdown",
   "id": "eac66c51-9ddd-4ac6-9d15-bf1707e3aa29",
   "metadata": {},
   "source": [
    "Or open xcube Viewer inlined here:"
   ]
  },
  {
   "cell_type": "code",
   "execution_count": 6,
   "id": "5c0a165a-b7df-4324-b72d-9452b30635f3",
   "metadata": {
    "tags": []
   },
   "outputs": [
    {
     "data": {
      "text/html": [
       "<iframe src=\"http://localhost:8000/viewer/?serverUrl=http://localhost:8000&compact=1\" width=\"100%\" height=\"800\"/>"
      ],
      "text/plain": [
       "<IPython.core.display.HTML object>"
      ]
     },
     "execution_count": 6,
     "metadata": {},
     "output_type": "execute_result"
    }
   ],
   "source": [
    "viewer.show()"
   ]
  },
  {
   "cell_type": "code",
   "execution_count": 7,
   "id": "6b137ea7-207d-468e-91a1-1d7e1653fa3c",
   "metadata": {
    "tags": []
   },
   "outputs": [],
   "source": [
    "#viewer.stop_server()"
   ]
  }
 ],
 "metadata": {
  "kernelspec": {
   "display_name": "Python 3 (ipykernel)",
   "language": "python",
   "name": "python3"
  },
  "language_info": {
   "codemirror_mode": {
    "name": "ipython",
    "version": 3
   },
   "file_extension": ".py",
   "mimetype": "text/x-python",
   "name": "python",
   "nbconvert_exporter": "python",
   "pygments_lexer": "ipython3",
   "version": "3.12.7"
  }
 },
 "nbformat": 4,
 "nbformat_minor": 5
}
